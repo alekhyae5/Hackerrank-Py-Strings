{
  "nbformat": 4,
  "nbformat_minor": 0,
  "metadata": {
    "colab": {
      "provenance": []
    },
    "kernelspec": {
      "name": "python3",
      "display_name": "Python 3"
    },
    "language_info": {
      "name": "python"
    }
  },
  "cells": [
    {
      "cell_type": "code",
      "execution_count": null,
      "metadata": {
        "id": "GK7uJOhiWQqL"
      },
      "outputs": [],
      "source": [
        "def swap_case(s):\n",
        "    a=\"\"\n",
        "    for i in s:\n",
        "        if(90>=ord(i)>=65):\n",
        "            a=a+chr(ord(i)+32)\n",
        "        elif(122>=ord(i)>=97):\n",
        "            a=a+chr(ord(i)-32)\n",
        "        else:\n",
        "            a=a+i\n",
        "    return a"
      ]
    },
    {
      "cell_type": "code",
      "source": [
        "def split_and_join(line):\n",
        "    # write your code here\n",
        "    line=line.split()\n",
        "    a=\"-\".join(line)\n",
        "    return a"
      ],
      "metadata": {
        "id": "QmcDcUelWcr0"
      },
      "execution_count": null,
      "outputs": []
    },
    {
      "cell_type": "code",
      "source": [
        "def print_full_name(first, last):\n",
        "    # Write your code here\n",
        "    a='Hello {} {}! You just delved into python.'\n",
        "    print(a.format(first,last))"
      ],
      "metadata": {
        "id": "USXQ61reWhvh"
      },
      "execution_count": null,
      "outputs": []
    },
    {
      "cell_type": "code",
      "source": [
        "def mutate_string(string, position, character):\n",
        "    string1=string[:position]+character+string[position+1:]\n",
        "    return string1"
      ],
      "metadata": {
        "id": "Bboge-FvWnL-"
      },
      "execution_count": null,
      "outputs": []
    },
    {
      "cell_type": "code",
      "source": [
        "def count_substring(string, sub_string):\n",
        "    count = 0\n",
        "    for i in range(0, len(string)-len(sub_string)+1):\n",
        "        l = i\n",
        "        for j in range(0, len(sub_string)):\n",
        "            if string[l] == sub_string[j]:\n",
        "                l +=1\n",
        "                if j == len(sub_string)-1:\n",
        "                    count = count + 1\n",
        "                else:\n",
        "                    continue\n",
        "            else:\n",
        "                break\n",
        "    return count"
      ],
      "metadata": {
        "id": "ix99YMQDWsAg"
      },
      "execution_count": null,
      "outputs": []
    },
    {
      "cell_type": "code",
      "source": [
        "if __name__ == '__main__':\n",
        "    s = input()\n",
        "    print(any(a.isalnum() for a in s))\n",
        "    print(any(a.isalpha() for a in s))\n",
        "    print(any(a.isdigit() for a in s))\n",
        "    print(any(a.islower() for a in s))\n",
        "    print(any(a.isupper() for a in s))"
      ],
      "metadata": {
        "id": "W6sYsCy7WzHE"
      },
      "execution_count": null,
      "outputs": []
    },
    {
      "cell_type": "code",
      "source": [
        "thickness = int(input()) #This must be an odd number\n",
        "c = 'H'\n",
        "#Top Cone\n",
        "for i in range(thickness):\n",
        "    print((c*i).rjust(thickness-1)+c+(c*i).ljust(thickness-1))\n",
        "#Top Pillars\n",
        "for i in range(thickness+1):\n",
        "    print((c*thickness).center(thickness*2)+(c*thickness).center(thickness*6))\n",
        "#Middle Belt\n",
        "for i in range((thickness+1)//2):\n",
        "    print((c*thickness*5).center(thickness*6))    \n",
        "#Bottom Pillars\n",
        "for i in range(thickness+1):\n",
        "    print((c*thickness).center(thickness*2)+(c*thickness).center(thickness*6))    \n",
        "#Bottom Cone\n",
        "for i in range(thickness):\n",
        "    print(((c*(thickness-i-1)).rjust(thickness)+c+(c*(thickness-i-1)).ljust(thickness)).rjust(thickness*6))"
      ],
      "metadata": {
        "id": "G8Kh-lw4W56d"
      },
      "execution_count": null,
      "outputs": []
    },
    {
      "cell_type": "code",
      "source": [
        "def wrap(string, max_width):\n",
        "    return textwrap.fill(string,max_width)"
      ],
      "metadata": {
        "id": "fMefE3eKXK4P"
      },
      "execution_count": null,
      "outputs": []
    },
    {
      "cell_type": "code",
      "source": [
        "N, M = map(int, input().split())\n",
        "for i in range(1, N, 2):\n",
        "    print(str('.|.' * i).center(M, '-'))\n",
        "print('WELCOME'.center(M, '-'))\n",
        "for i in range(N-2, -1, -2):\n",
        "    print(str('.|.' * i).center(M, '-'))"
      ],
      "metadata": {
        "id": "OMhhZ9Z4XLY_"
      },
      "execution_count": null,
      "outputs": []
    },
    {
      "cell_type": "code",
      "source": [
        "def print_formatted(number):\n",
        "    # your code goes here\n",
        "    width = len(bin(number)[2:])\n",
        "    for i in range(1, number+1):\n",
        "        deci = str(i)\n",
        "        octa = oct(i)[2:]\n",
        "        hexa = hex(i)[2:].upper()\n",
        "        bina = bin(i)[2:]\n",
        "        print(deci.rjust(width),octa.rjust(width),hexa.rjust(width),bina.rjust(width))"
      ],
      "metadata": {
        "id": "QEC5Q_U5XT4h"
      },
      "execution_count": null,
      "outputs": []
    },
    {
      "cell_type": "code",
      "source": [
        "def print_rangoli(size):\n",
        "    # your code goes here\n",
        "    import string\n",
        "    design = string.ascii_lowercase\n",
        "    L = []\n",
        "    for i in range(n):\n",
        "        s = \"-\".join(design[i:n])\n",
        "        L.append((s[::-1]+s[1:]).center(4*n-3, \"-\"))\n",
        "    print('\\n'.join(L[:0:-1]+L))"
      ],
      "metadata": {
        "id": "KuPozDkkXaDq"
      },
      "execution_count": null,
      "outputs": []
    },
    {
      "cell_type": "code",
      "source": [
        "def solve(s):\n",
        "    a=s.split()\n",
        "    for i in a:\n",
        "        s=s.replace(i,i.capitalize())\n",
        "    return s"
      ],
      "metadata": {
        "id": "sUnlVF7PXhWz"
      },
      "execution_count": null,
      "outputs": []
    },
    {
      "cell_type": "code",
      "source": [
        "def minion_game(string):\n",
        "    # your code goes here\n",
        "    player1 = 0;\n",
        "    player2 = 0;\n",
        "    str_len = len(string)\n",
        "    for i in range(str_len):\n",
        "        if s[i] in \"AEIOU\":\n",
        "            player1 += (str_len)-i\n",
        "        else :\n",
        "            player2 += (str_len)-i\n",
        "    \n",
        "    if player1 > player2:\n",
        "        print(\"Kevin\", player1)\n",
        "    elif player1 < player2:\n",
        "        print(\"Stuart\",player2)\n",
        "    elif player1 == player2:\n",
        "        print(\"Draw\")\n",
        "    else :\n",
        "        print(\"Draw\")"
      ],
      "metadata": {
        "id": "nLHNE7PuXnTu"
      },
      "execution_count": null,
      "outputs": []
    },
    {
      "cell_type": "code",
      "source": [
        "from collections import OrderedDict\n",
        "def merge_the_tools(string, k):\n",
        "    # your code goes here\n",
        "    strlen=len(string)\n",
        "    for i in range(0,strlen,k):\n",
        "        print(''.join(OrderedDict.fromkeys(string[i:i + k])))"
      ],
      "metadata": {
        "id": "lCgQibVSXtdr"
      },
      "execution_count": null,
      "outputs": []
    }
  ]
}